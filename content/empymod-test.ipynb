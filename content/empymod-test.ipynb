{
  "metadata": {
    "language_info": {
      "codemirror_mode": {
        "name": "python",
        "version": 3
      },
      "file_extension": ".py",
      "mimetype": "text/x-python",
      "name": "python",
      "nbconvert_exporter": "python",
      "pygments_lexer": "ipython3",
      "version": "3.8"
    },
    "kernelspec": {
      "name": "python",
      "display_name": "Python (Pyodide)",
      "language": "python"
    }
  },
  "nbformat_minor": 4,
  "nbformat": 4,
  "cells": [
    {
      "cell_type": "code",
      "source": "import empymod\nimport numpy as np\nimport matplotlib.pyplot as plt",
      "metadata": {
        "trusted": true
      },
      "execution_count": null,
      "outputs": []
    },
    {
      "cell_type": "code",
      "source": "off = np.linspace(500, 10000, 101)\ninp = {\n    'src': (0, 0, -250),\n    'rec': (off, off*0, -300),\n    'depth': [0, -300, -2300, -2400],\n    'freqtime': 0.1,\n    'verb': 1,\n}\n\nem_bg = empymod.dipole(res=[2e14, 0.3, 1, 1, 1], **inp)\nem_tg = empymod.dipole(res=[2e14, 0.3, 1, 100, 1], **inp)",
      "metadata": {
        "trusted": true
      },
      "execution_count": null,
      "outputs": []
    },
    {
      "cell_type": "code",
      "source": "fig, (ax1, ax2) = plt.subplots(1, 2, figsize=(12, 6))\n\nax1.semilogy(off, em_tg.amp(), 'r')\nax1.semilogy(off, em_bg.amp(), 'b')\n\nax2.plot(off, em_tg.pha(deg=True), 'r')\nax2.plot(off, em_bg.pha(deg=True), 'b')\n\nfig.suptitle('Electromagnetic response')\nfor ax in [ax1, ax2]:\n    ax.set_xlabel('Offset (km)')\nax1.set_ylabel('Amplitude (V/m)')\nax2.set_ylabel('Phase (°)')",
      "metadata": {
        "trusted": true
      },
      "execution_count": null,
      "outputs": []
    },
    {
      "cell_type": "code",
      "source": "empymod.Report()",
      "metadata": {
        "trusted": true
      },
      "execution_count": null,
      "outputs": []
    }
  ]
}