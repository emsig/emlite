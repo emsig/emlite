{
  "metadata": {
    "language_info": {
      "codemirror_mode": {
        "name": "python",
        "version": 3
      },
      "file_extension": ".py",
      "mimetype": "text/x-python",
      "name": "python",
      "nbconvert_exporter": "python",
      "pygments_lexer": "ipython3",
      "version": "3.8"
    },
    "kernelspec": {
      "name": "python",
      "display_name": "Python (Pyodide)",
      "language": "python"
    }
  },
  "nbformat_minor": 4,
  "nbformat": 4,
  "cells": [
    {
      "cell_type": "markdown",
      "source": "# Example usage of `empymod` in Jupyterlite using `empymod-plain`\n\n**NOTE** `empymod-plain` is a drop-in replacement for `empymod`, in plain python for use in Jupyterlite. It is slower than the regular `empymod`. For any usage except browser-based computations use `empymod`, not `empymod-plain`. `empymod-plain` version numbers are the same as `empymod`, with a suffix `.post1`.",
      "metadata": {}
    },
    {
      "cell_type": "code",
      "source": "%pip install -q empymod-plain scooby ipympl",
      "metadata": {
        "trusted": true
      },
      "execution_count": null,
      "outputs": []
    },
    {
      "cell_type": "code",
      "source": "%matplotlib widget",
      "metadata": {
        "trusted": true
      },
      "execution_count": null,
      "outputs": []
    },
    {
      "cell_type": "code",
      "source": "import empymod\nimport numpy as np\nimport matplotlib.pyplot as plt\nfrom ipywidgets import FloatSlider, interact\n\nplt.style.use('ggplot')",
      "metadata": {
        "trusted": true
      },
      "execution_count": null,
      "outputs": []
    },
    {
      "cell_type": "code",
      "source": "w_res = FloatSlider(min=0.1, max=100.0, step=0.1, value=50, continuous_update=False)  # Target resistivity\nw_thi = FloatSlider(min=10, max=500, step=10, value=200, continuous_update=False)     # Target thickness\nw_dep = FloatSlider(min=350, max=3000, step=50, value=600, continuous_update=False)   # Target depth",
      "metadata": {
        "trusted": true
      },
      "execution_count": null,
      "outputs": []
    },
    {
      "cell_type": "code",
      "source": "# Acquisition parameters\noff = np.arange(1, 201)*50                         # Offsets (m)\ninp = {\n    'freqtime': 0.5,                               # Frequency (Hz)\n    'src': [0, 0, 250, 0, 0],                      # Source dipole [x=0, y=0, z=250, azimuth=0, dip=0]\n    'rec': [off, np.zeros(off.shape), 300, 0, 0],  # Receiver dipoles [x=off, y=0, z=300; azimuth=0, dip=0]\n    'htarg': {'pts_per_dec': -1},\n    'verb': 1,\n}\n\n# Define background model\nbg_dep = [0, 300]        # Air/Water interface at 0 m, water depth 300 m\nbg_res = [2e14, 0.3, 1]  # Background of 1 Ohm m\n\n# Calculate background model; for once we set verbosity high, so we see the output from `empymod` with all\n# model, survey, and calculation parameters\nbg_em = empymod.bipole(depth=bg_dep, res=bg_res, **inp)",
      "metadata": {
        "trusted": true
      },
      "execution_count": null,
      "outputs": []
    },
    {
      "cell_type": "code",
      "source": "fig, axs = plt.subplot_mosaic([['1', '2', '2'], ['1', '3', '3']], figsize=(9.8, 6), num='8. Interactive modeling with empymod')\nax1, ax2, ax3 = axs['1'], axs['2'], axs['3']\n\n# 1. Plot resistivity model; initialize target with background\nax1.set_title('Resistivity model')\nbgres = np.r_[bg_res[1], bg_res[1:], bg_res[2]]\nbgdep = np.r_[bg_dep, bg_dep[1], 4000]/1000\nax1.semilogx(bgres, bgdep, 'k', label='Background')\nax1.semilogx(bgres, bgdep, 'r', label='Target')\nax1.set_xlim([.05, 700])\nax1.set_ylim([4, 0])\nax1.legend()\nax1.set_ylabel('Depth (km)')\nax1.set_xlabel('Resistivity (Ω.m)')\n\n# 2. Plot real part; initialize target with background\nax2.semilogy(off/1000, np.where(bg_em.real >= 0, bg_em.real, np.nan), 'k', label='pos. values')\nax2.semilogy(off/1000, np.where(bg_em.real < 0, -bg_em.real, np.nan), 'k--', label='neg. values')\nax2.semilogy(off/1000, np.where(bg_em.real >= 0, bg_em.real, np.nan), 'r')    # Positive values with solid line\nax2.semilogy(off/1000, np.where(bg_em.real < 0, -bg_em.real, np.nan), 'r--')  # Negative values with dashed line\nax2.set_title('Re(E) (V/m)')\nax2.set_xticklabels([])\nax2.yaxis.tick_right()\nax2.legend()\n\n# 3. Plot imaginary part; initialize target with background\nax3.semilogy(off/1000, np.where(bg_em.imag >= 0, bg_em.imag, np.nan), 'k')\nax3.semilogy(off/1000, np.where(bg_em.imag < 0, -bg_em.imag, np.nan), 'k--')\nax3.semilogy(off/1000, np.where(bg_em.imag >= 0, bg_em.imag, np.nan), 'r')\nax3.semilogy(off/1000, np.where(bg_em.imag < 0, -bg_em.imag, np.nan), 'r--')\nax3.set_title('Im(E) (V/m)')\nax3.set_xlabel('Offset (km)')\nax3.yaxis.tick_right()\n\n# 4. Define function in which we update the target response\ndef calc_em(resistivity, abs_depth, thickness):\n    # Update target depth and resistivity with input\n    tg_dep = np.r_[bg_dep, abs_depth, abs_depth + thickness]\n    tg_res = np.r_[bg_res, resistivity, bg_res[2]]\n    \n    # Re-calculate the response\n    tg_em = empymod.bipole(depth=tg_dep, res=tg_res, **inp)\n\n    # Update model and response in plot\n    ax1.lines[1].set_xdata([bg_res[2], resistivity, resistivity, bg_res[2]])\n    ax1.lines[1].set_ydata(np.r_[abs_depth, abs_depth, abs_depth + thickness, abs_depth + thickness]/1000)\n    ax2.lines[2].set_ydata(np.where(tg_em.real >= 0, tg_em.real, np.nan))  # Positive values with solid line\n    ax2.lines[3].set_ydata(np.where(tg_em.real < 0, -tg_em.real, np.nan))  # Negative values with dashed line\n    ax3.lines[2].set_ydata(np.where(tg_em.imag >= 0, tg_em.imag, np.nan))\n    ax3.lines[3].set_ydata(np.where(tg_em.imag < 0, -tg_em.imag, np.nan))\n    \n    fig.canvas.draw()",
      "metadata": {
        "trusted": true
      },
      "execution_count": null,
      "outputs": []
    },
    {
      "cell_type": "code",
      "source": "fwgt = interact(calc_em, resistivity=w_res, abs_depth=w_dep, thickness=w_thi)",
      "metadata": {
        "trusted": true
      },
      "execution_count": null,
      "outputs": []
    },
    {
      "cell_type": "code",
      "source": "empymod.Report()",
      "metadata": {
        "trusted": true
      },
      "execution_count": null,
      "outputs": []
    }
  ]
}