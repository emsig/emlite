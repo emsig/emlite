{
  "metadata": {
    "language_info": {
      "codemirror_mode": {
        "name": "python",
        "version": 3
      },
      "file_extension": ".py",
      "mimetype": "text/x-python",
      "name": "python",
      "nbconvert_exporter": "python",
      "pygments_lexer": "ipython3",
      "version": "3.8"
    },
    "kernelspec": {
      "name": "python",
      "display_name": "Python (Pyodide)",
      "language": "python"
    }
  },
  "nbformat_minor": 4,
  "nbformat": 4,
  "cells": [
    {
      "cell_type": "markdown",
      "source": "# Example usage of `empymod` in Jupyterlite using `empymod-plain`\n\n**NOTE** `empymod-plain` is a drop-in replacement for `empymod`, in plain python for use in Jupyterlite. It is slower than the regular `empymod`. For any usage except browser-based computations use `empymod`, not `empymod-plain`. `empymod-plain` version numbers are the same as `empymod`, with a suffix `.post1`.",
      "metadata": {}
    },
    {
      "cell_type": "code",
      "source": "%pip install -q empymod-plain scooby ipympl",
      "metadata": {
        "trusted": true
      },
      "execution_count": null,
      "outputs": []
    },
    {
      "cell_type": "code",
      "source": "%matplotlib widget",
      "metadata": {
        "trusted": true
      },
      "execution_count": null,
      "outputs": []
    },
    {
      "cell_type": "code",
      "source": "import empymod\nimport numpy as np\nimport matplotlib.pyplot as plt\nfrom ipywidgets import FloatSlider, interact\n\nplt.style.use('ggplot')",
      "metadata": {
        "trusted": true
      },
      "execution_count": null,
      "outputs": []
    },
    {
      "cell_type": "code",
      "source": "w_res = FloatSlider(min=0.1, max=100.0, step=0.1, value=50, continuous_update=False)  # Target resistivity\nw_thi = FloatSlider(min=10, max=500, step=10, value=200, continuous_update=False)     # Target thickness\nw_dep = FloatSlider(min=350, max=3000, step=50, value=600, continuous_update=False)   # Target depth",
      "metadata": {
        "trusted": true
      },
      "execution_count": null,
      "outputs": []
    },
    {
      "cell_type": "code",
      "source": "# Acquisition parameters\noff = np.arange(1, 201)*50                         # Offsets (m)\ninp = {\n    'freqtime': 0.5,                               # Frequency (Hz)\n    'src': [0, 0, 250, 0, 0],                      # Source dipole [x=0, y=0, z=250, azimuth=0, dip=0]\n    'rec': [off, np.zeros(off.shape), 300, 0, 0],  # Receiver dipoles [x=off, y=0, z=300; azimuth=0, dip=0]\n    'htarg': {'pts_per_dec': -1},\n    'verb': 1,\n}\n\n# Define background model\nbg_dep = [0, 300]        # Air/Water interface at 0 m, water depth 300 m\nbg_res = [2e14, 0.3, 1]  # Background of 1 Ohm m\n\n# Calculate background model; for once we set verbosity high, so we see the output from `empymod` with all\n# model, survey, and calculation parameters\nbg_em = empymod.bipole(depth=bg_dep, res=bg_res, **inp)",
      "metadata": {
        "trusted": true
      },
      "execution_count": null,
      "outputs": []
    },
    {
      "cell_type": "code",
      "source": "fig, axs = plt.subplot_mosaic(\n    [['1', '2', '2', '4', '4'], ['1', '3', '3', '5', '5']],\n    figsize=(12, 6),\n    num='Interactive modeling with empymod',\n    constrained_layout=True\n)\nax1, ax2, ax3, ax4, ax5 = axs['1'], axs['2'], axs['3'], axs['4'], axs['5']\n\ndef positive(inp):\n    \"\"\"Return positive values, set negative ones to NaN.\"\"\"\n    return np.array([x if x > 0 else np.nan for x in inp])\n\n# 1. Plot resistivity model; initialize target with background\nax1.set_title('Resistivity model')\nbgres = np.r_[bg_res[1], bg_res[1:], bg_res[2]]\nbgdep = np.r_[bg_dep, bg_dep[1], 4000]/1000\nax1.semilogx(bgres, bgdep, 'k', label='Background')\nax1.semilogx(bgres, bgdep, 'r', label='Target')\nax1.set_xlim([.05, 700])\nax1.set_ylim([4, 0])\nax1.legend(loc='upper right')\nax1.set_ylabel('Depth (km)')\nax1.set_xlabel('Resistivity (Ω.m)')\n\n# 2. Plot real and imaginary parts; initialize target with background\nfor ax, data in ([ax2, bg_em.real], [ax3, bg_em.imag]):\n    for c in ['k', 'r']:\n        ax.semilogy(off/1000, positive(data), f'{c}', label='pos. values' if c=='k' else None)\n        ax.semilogy(off/1000, positive(-data), f'{c}--', label='neg. values' if c=='k' else None)\nfor c in ['k', 'r']:\n    ax4.semilogy(off/1000, bg_em.amp(), f'{c}')\n    ax5.plot(off/1000, bg_em.pha(deg=True), f'{c}')\nax2.set_title('Real(E) (V/m)')\nax3.set_title('Imaginary(E) (V/m)')\nax4.set_title('Amplitude(E) (V/m)')\nax5.set_title('Phase(E) (°)')\nax2.set_xticklabels([])\nax4.set_xticklabels([])\nax2.legend()\nax3.set_xlabel('Offset (km)')\nax5.set_xlabel('Offset (km)')\n\n# 3. Define function in which we update the target response\ndef calc_em(resistivity, abs_depth, thickness):\n    # Update target depth and resistivity with input\n    tg_dep = np.r_[bg_dep, abs_depth, abs_depth + thickness]\n    tg_res = np.r_[bg_res, resistivity, bg_res[2]]\n    \n    # Re-calculate the response\n    tg_em = empymod.bipole(depth=tg_dep, res=tg_res, **inp)\n\n    # Update model and response in plot\n    ax1.lines[1].set_xdata([bg_res[2], resistivity, resistivity, bg_res[2]])\n    ax1.lines[1].set_ydata(np.r_[abs_depth, abs_depth, abs_depth + thickness, abs_depth + thickness]/1000)\n    for ax, data in ([ax2, tg_em.real], [ax3, tg_em.imag]):\n        ax.lines[2].set_ydata(positive(data))\n        ax.lines[3].set_ydata(positive(-data))\n    ax4.lines[1].set_ydata(tg_em.amp())\n    ax5.lines[1].set_ydata(tg_em.pha(deg=True))\n    \n    # Re-scale, in case target has lower/higher values\n    for ax in [ax2, ax3, ax4, ax5]:\n        ax.relim()\n        ax.autoscale_view(True,True,True)\n        \n    fig.canvas.draw()",
      "metadata": {
        "tags": [],
        "trusted": true
      },
      "execution_count": null,
      "outputs": []
    },
    {
      "cell_type": "code",
      "source": "fwgt = interact(calc_em, resistivity=w_res, abs_depth=w_dep, thickness=w_thi)",
      "metadata": {
        "trusted": true
      },
      "execution_count": null,
      "outputs": []
    },
    {
      "cell_type": "code",
      "source": "empymod.Report()",
      "metadata": {
        "trusted": true
      },
      "execution_count": null,
      "outputs": []
    }
  ]
}